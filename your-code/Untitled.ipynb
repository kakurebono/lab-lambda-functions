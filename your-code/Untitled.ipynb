{
 "cells": [
  {
   "cell_type": "code",
   "execution_count": 1,
   "metadata": {},
   "outputs": [
    {
     "name": "stdout",
     "output_type": "stream",
     "text": [
      "[(1, 2), (2, 3), (4, 3), (4, 5)]\n"
     ]
    },
    {
     "data": {
      "text/plain": [
       "[False, False, True, False]"
      ]
     },
     "execution_count": 1,
     "metadata": {},
     "output_type": "execute_result"
    }
   ],
   "source": [
    "list1 = [1,2,4,4]\n",
    "list2 = [2,3,3,5]\n",
    "## Zip the lists together \n",
    "\n",
    "zipping = zip(list1,list2)\n",
    "zip = list(zipping)\n",
    "\n",
    "## Print the zipped list \n",
    "print(zip)\n",
    "\n",
    "# Use a lambda expression to compare if: list1 element > list2 element\n",
    "\n",
    "list(map(lambda x: True if x[0]>x[1] else False , zip))\n",
    "\n",
    "\n",
    "\n",
    "# comparison(list1,list2)\n",
    "\n"
   ]
  },
  {
   "cell_type": "code",
   "execution_count": 1,
   "metadata": {},
   "outputs": [
    {
     "data": {
      "text/plain": [
       "[('Green', 'eggs'),\n",
       " ('cheese', 'cheese'),\n",
       " ('English', 'cucumber'),\n",
       " ('tomato', 'tomato')]"
      ]
     },
     "execution_count": 1,
     "metadata": {},
     "output_type": "execute_result"
    }
   ],
   "source": [
    "list1 = ['Green', 'cheese', 'English', 'tomato']\n",
    "list2 = ['eggs', 'cheese', 'cucumber', 'tomato']\n",
    "zipped = zip(list1,list2)\n",
    "list(zipped)"
   ]
  },
  {
   "cell_type": "code",
   "execution_count": 8,
   "metadata": {},
   "outputs": [
    {
     "name": "stdout",
     "output_type": "stream",
     "text": [
      "[('Engineering', 'Lab'), ('Computer Science', 'Homework'), ('Political Science', 'Essay'), ('Mathematics', 'Module')]\n"
     ]
    },
    {
     "data": {
      "text/plain": [
       "[('Political Science', 'Essay'),\n",
       " ('Computer Science', 'Homework'),\n",
       " ('Engineering', 'Lab'),\n",
       " ('Mathematics', 'Module')]"
      ]
     },
     "execution_count": 8,
     "metadata": {},
     "output_type": "execute_result"
    }
   ],
   "source": [
    "list1 = ['Engineering', 'Computer Science', 'Political Science', 'Mathematics']\n",
    "list2 = ['Lab', 'Homework', 'Essay', 'Module']\n",
    "\n",
    "# Your code here:\n",
    "\n",
    "zipped2 = zip(list1,list2)\n",
    "zippp = list(zipped2)\n",
    "print(zippp)\n",
    "\n",
    "last = lambda x: x[-1]\n",
    "sorted(zippp, key=last)"
   ]
  },
  {
   "cell_type": "code",
   "execution_count": 9,
   "metadata": {},
   "outputs": [
    {
     "name": "stdout",
     "output_type": "stream",
     "text": [
      "[(1, 2), (2, 3), (4, 3), (4, 5)]\n"
     ]
    },
    {
     "data": {
      "text/plain": [
       "[False, False, True, False]"
      ]
     },
     "execution_count": 9,
     "metadata": {},
     "output_type": "execute_result"
    }
   ],
   "source": [
    "list1 = [1,2,4,4]\n",
    "list2 = [2,3,3,5]\n",
    "## Zip the lists together \n",
    "\n",
    "zipping = zip(list1,list2)\n",
    "zip = list(zipping)\n",
    "\n",
    "## Print the zipped list \n",
    "print(zip)\n",
    "\n",
    "# Use a lambda expression to compare if: list1 element > list2 element\n",
    "\n",
    "list(map(lambda x: True if x[0]>x[1] else False , zip))"
   ]
  },
  {
   "cell_type": "code",
   "execution_count": 11,
   "metadata": {},
   "outputs": [
    {
     "data": {
      "text/plain": [
       "['BMW', 'Honda', 'Toyota', 'Audi']"
      ]
     },
     "execution_count": 11,
     "metadata": {},
     "output_type": "execute_result"
    }
   ],
   "source": [
    "d = {'Honda': 1997, 'Toyota': 1995, 'Audi': 2001, 'BMW': 2005}\n",
    "\n",
    "# Your code here:\n",
    "sorted(d, key = lambda i: i[-1])"
   ]
  }
 ],
 "metadata": {
  "kernelspec": {
   "display_name": "Python 3",
   "language": "python",
   "name": "python3"
  },
  "language_info": {
   "codemirror_mode": {
    "name": "ipython",
    "version": 3
   },
   "file_extension": ".py",
   "mimetype": "text/x-python",
   "name": "python",
   "nbconvert_exporter": "python",
   "pygments_lexer": "ipython3",
   "version": "3.8.3"
  }
 },
 "nbformat": 4,
 "nbformat_minor": 4
}
